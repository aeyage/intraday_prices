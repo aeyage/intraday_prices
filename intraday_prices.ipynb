{
  "nbformat": 4,
  "nbformat_minor": 0,
  "metadata": {
    "colab": {
      "provenance": [],
      "authorship_tag": "ABX9TyNoR5MQRIqIgXF6pxJfiepO",
      "include_colab_link": true
    },
    "kernelspec": {
      "name": "python3",
      "display_name": "Python 3"
    },
    "language_info": {
      "name": "python"
    }
  },
  "cells": [
    {
      "cell_type": "markdown",
      "metadata": {
        "id": "view-in-github",
        "colab_type": "text"
      },
      "source": [
        "<a href=\"https://colab.research.google.com/github/aeyage/intraday_prices/blob/main/intraday_prices.ipynb\" target=\"_parent\"><img src=\"https://colab.research.google.com/assets/colab-badge.svg\" alt=\"Open In Colab\"/></a>"
      ]
    },
    {
      "cell_type": "code",
      "source": [
        "import time\n",
        "import numpy as np\n",
        "import pandas as pd\n",
        "import cudf\n",
        "import cupy as cp"
      ],
      "metadata": {
        "id": "4oc-a3zJ6p3M"
      },
      "execution_count": 2,
      "outputs": []
    },
    {
      "cell_type": "markdown",
      "source": [
        "First, we define a function to load our price data from a CSV file using pandas. The function will read the data, set the date as the index, and ensure all date indices are in the correct datetime format."
      ],
      "metadata": {
        "id": "LuI8A2kl7wtK"
      }
    },
    {
      "cell_type": "code",
      "source": [
        "def get_prices_as_pandas(prices_file):\n",
        "  d = pd.read_csv(prices_file)\n",
        "  d = d.set_index(\"date_time\", inplace=True)\n",
        "  d.index = pd.to_datetime(d.index)\n",
        "\n",
        "  return d.bfill().ffill()"
      ],
      "metadata": {
        "id": "2bu3TjXQ620n"
      },
      "execution_count": 3,
      "outputs": []
    },
    {
      "cell_type": "markdown",
      "source": [
        "Next, we define a similar function to load the price data using cuDF, a GPU-accelerated library similar to pandas. This will allow us to perform computations on the GPU."
      ],
      "metadata": {
        "id": "HFBjmlwr_0zc"
      }
    },
    {
      "cell_type": "code",
      "source": [
        "def get_prices_as_cudf(prices_file):\n",
        "  c = pd.read_csv(prices_file)\n",
        "  c = c.set_index(\"date_time\", inplace=True)\n",
        "  c.index = pd.to_datetime(c.index)\n",
        "\n",
        "  return c.bfill().ffill()"
      ],
      "metadata": {
        "id": "eSh3T3LK_2iL"
      },
      "execution_count": 4,
      "outputs": []
    }
  ]
}