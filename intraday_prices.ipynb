{
  "nbformat": 4,
  "nbformat_minor": 0,
  "metadata": {
    "colab": {
      "provenance": [],
      "gpuType": "T4",
      "authorship_tag": "ABX9TyPjR+upl8HmoI+tqD4WqPhS",
      "include_colab_link": true
    },
    "kernelspec": {
      "name": "python3",
      "display_name": "Python 3"
    },
    "language_info": {
      "name": "python"
    },
    "accelerator": "GPU"
  },
  "cells": [
    {
      "cell_type": "markdown",
      "metadata": {
        "id": "view-in-github",
        "colab_type": "text"
      },
      "source": [
        "<a href=\"https://colab.research.google.com/github/aeyage/intraday_prices/blob/main/intraday_prices.ipynb\" target=\"_parent\"><img src=\"https://colab.research.google.com/assets/colab-badge.svg\" alt=\"Open In Colab\"/></a>"
      ]
    },
    {
      "cell_type": "markdown",
      "source": [
        "##Import and setup"
      ],
      "metadata": {
        "id": "AxF-s2ahDCex"
      }
    },
    {
      "cell_type": "markdown",
      "source": [
        "In addition to cuDF, we use CuPy which is a GPU-accelerated array library."
      ],
      "metadata": {
        "id": "la_k8xp_DYCz"
      }
    },
    {
      "cell_type": "code",
      "source": [
        "import time\n",
        "import numpy as np\n",
        "import pandas as pd\n",
        "import cudf\n",
        "import cupy as cp"
      ],
      "metadata": {
        "id": "4oc-a3zJ6p3M"
      },
      "execution_count": 1,
      "outputs": []
    },
    {
      "cell_type": "markdown",
      "source": [
        "##Load and preprocess price data using pandas"
      ],
      "metadata": {
        "id": "k553Jz6TDIUc"
      }
    },
    {
      "cell_type": "markdown",
      "source": [
        "First, we define a function to load our price data from a CSV file using pandas. The function will read the data, set the date as the index, and ensure all date indices are in the correct datetime format."
      ],
      "metadata": {
        "id": "LuI8A2kl7wtK"
      }
    },
    {
      "cell_type": "code",
      "source": [
        "def get_prices_as_pandas(prices_file):\n",
        "  d = pd.read_csv(prices_file)\n",
        "  d.set_index(\"date_time\", inplace=True)\n",
        "  d.index = pd.to_datetime(d.index)\n",
        "\n",
        "  return d.bfill().ffill()"
      ],
      "metadata": {
        "id": "2bu3TjXQ620n"
      },
      "execution_count": 2,
      "outputs": []
    },
    {
      "cell_type": "markdown",
      "source": [
        "Next, we define a similar function to load the price data using cuDF, a GPU-accelerated library similar to pandas. This will allow us to perform computations on the GPU."
      ],
      "metadata": {
        "id": "HFBjmlwr_0zc"
      }
    },
    {
      "cell_type": "code",
      "source": [
        "def get_prices_as_cudf(prices_file):\n",
        "    c = cudf.read_csv(prices_file)\n",
        "    c.set_index(\"date_time\", inplace=True)\n",
        "    c.index = cudf.to_datetime(c.index)\n",
        "\n",
        "    return c.bfill().ffill()"
      ],
      "metadata": {
        "id": "eSh3T3LK_2iL"
      },
      "execution_count": 3,
      "outputs": []
    },
    {
      "cell_type": "markdown",
      "source": [
        "Note a few things. First, in the second function we use cudf.read_csv. Second, in both cases, we are backfilling and forward filling data. This means we copy prices into NaN values.\n",
        "\n",
        "In practice, we’d be more careful about how we avoid sparse matrixes."
      ],
      "metadata": {
        "id": "9bKDT9CACdNe"
      }
    },
    {
      "cell_type": "markdown",
      "source": [
        "##Compute optimal asset weights using pandas on the CPU"
      ],
      "metadata": {
        "id": "Ftx0EA4QDfnv"
      }
    },
    {
      "cell_type": "markdown",
      "source": [
        "We will now compute the optimal asset weights using the classical Markowitz mean-variance optimisation method with pandas. This involves reading the price data, calculating returns, and deriving the portfolio weights that minimise risk."
      ],
      "metadata": {
        "id": "dC3TaJFUDnW7"
      }
    },
    {
      "cell_type": "code",
      "source": [
        "print(f\"=== Pandas (CPU) Computation ===\")\n",
        "\n",
        "start_cpu = time.time()\n",
        "\n",
        "df_pd = get_prices_as_pandas(\"intraday_prices.csv\")\n",
        "n_assets = len(df_pd.columns)\n",
        "\n",
        "df_returns_cpu = df_pd.pct_change().dropna()\n",
        "mean_returns_cpu = df_returns_cpu.mean()\n",
        "cov_matrix_cpu = df_returns_cpu.cov()\n",
        "\n",
        "inv_cov_cpu = np.linalg.inv(cov_matrix_cpu.values)\n",
        "ones_cpu = np.ones((n_assets, 1))\n",
        "w_cpu = inv_cov_cpu.dot(ones_cpu)\n",
        "w_cpu = w_cpu / (ones_cpu.T.dot(w_cpu))\n",
        "\n",
        "end_cpu = time.time()\n",
        "cpu_elapsed = end_cpu - start_cpu\n",
        "\n",
        "print(f\"CPU elapsed time: {cpu_elapsed} seconds\")\n",
        "print(f\"Optimal weights (first 5):\\n{w_cpu[:5].flatten()}\")"
      ],
      "metadata": {
        "colab": {
          "base_uri": "https://localhost:8080/"
        },
        "id": "vyXvV2RxEFZT",
        "outputId": "18f5d3eb-af1c-492e-9c73-b49562d1f70f"
      },
      "execution_count": 15,
      "outputs": [
        {
          "output_type": "stream",
          "name": "stdout",
          "text": [
            "=== Pandas (CPU) Computation ===\n",
            "CPU elapsed time: 8.261518478393555 seconds\n",
            "Optimal weights (first 5):\n",
            "[-0.00064962 -0.00108416 -0.00140672 -0.00152495 -0.00077713]\n"
          ]
        }
      ]
    },
    {
      "cell_type": "markdown",
      "source": [
        "In the trailing step, we read the price data and calculating daily asset returns as percentage changes. After computing the mean returns and covariance matrix, we use these to find the optimal portfolio weights that minimise variance.\n",
        "\n",
        "The weights are computed using a closed-form solution involving the inverse of the covariance matrix. The elapsed time for these calculations is printed, along with the first few optimal weights."
      ],
      "metadata": {
        "id": "SLRsJtgGWbWl"
      }
    },
    {
      "cell_type": "markdown",
      "source": [
        "##Perform the same computations using cuDF and cuPY on the GPU"
      ],
      "metadata": {
        "id": "9Oe-koF9Xf9W"
      }
    },
    {
      "cell_type": "markdown",
      "source": [
        "Now, we will perform the same computations using cuDF and cuPY to leverage the GPU's computational power. This involves similar steps, but the operations will be accelerated by the GPU."
      ],
      "metadata": {
        "id": "0bw5qD8cakm0"
      }
    },
    {
      "cell_type": "code",
      "source": [
        "print(f\"=== cuDF (GPU) Computation ===\")\n",
        "\n",
        "start_gpu = time.time()\n",
        "\n",
        "df_cudf = get_prices_as_cudf(\"intraday_prices.csv\")\n",
        "n_assets = len(df_cudf.columns)\n",
        "\n",
        "df_returns_gpu = df_cudf.pct_change().dropna()\n",
        "mean_returns_gpu = df_returns_gpu.mean()\n",
        "cov_matrix_gpu = df_returns_gpu.cov()\n",
        "\n",
        "inv_cov_gpu = cp.linalg.inv(cov_matrix_gpu.values)\n",
        "ones_gpu = cp.ones((n_assets, 1))\n",
        "w_gpu = cp.matmul(inv_cov_gpu, ones_gpu)\n",
        "w_gpu = w_gpu / (cp.matmul(ones_gpu.T, w_gpu))\n",
        "\n",
        "end_gpu = time.time()\n",
        "gpu_elapsed = end_gpu - start_gpu\n",
        "\n",
        "print(f\"GPU elapsed time: {gpu_elapsed} seconds\")\n",
        "print(f\"Optimal weights (first 5):\\n{w_gpu[:5].get()}\")"
      ],
      "metadata": {
        "colab": {
          "base_uri": "https://localhost:8080/"
        },
        "id": "zRTdxhA3XbxP",
        "outputId": "97a99e45-f5cc-45ff-fc03-fa3a761b5fc1"
      },
      "execution_count": 16,
      "outputs": [
        {
          "output_type": "stream",
          "name": "stdout",
          "text": [
            "=== cuDF (GPU) Computation ===\n",
            "GPU elapsed time: 1.3830804824829102 seconds\n",
            "Optimal weights (first 5):\n",
            "[[-0.00064962]\n",
            " [-0.00108416]\n",
            " [-0.00140672]\n",
            " [-0.00152495]\n",
            " [-0.00077713]]\n"
          ]
        }
      ]
    },
    {
      "cell_type": "code",
      "source": [
        "speedup = cpu_elapsed / gpu_elapsed if gpu_elapsed > 0 else float('inf')\n",
        "print(f\"Speedup (CPU/GPU): ~{speedup:.2f}x\")"
      ],
      "metadata": {
        "colab": {
          "base_uri": "https://localhost:8080/"
        },
        "id": "3dQ9CeKEl6B0",
        "outputId": "df747879-eead-4c0f-ef93-a4010a6396c1"
      },
      "execution_count": 20,
      "outputs": [
        {
          "output_type": "stream",
          "name": "stdout",
          "text": [
            "Speedup (CPU/GPU): ~5.97x\n"
          ]
        }
      ]
    }
  ]
}